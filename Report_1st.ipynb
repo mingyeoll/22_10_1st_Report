{
  "nbformat": 4,
  "nbformat_minor": 0,
  "metadata": {
    "colab": {
      "provenance": [],
      "authorship_tag": "ABX9TyO+fnQd0hjz9KJMkQIoKJLr",
      "include_colab_link": true
    },
    "kernelspec": {
      "name": "python3",
      "display_name": "Python 3"
    },
    "language_info": {
      "name": "python"
    }
  },
  "cells": [
    {
      "cell_type": "markdown",
      "metadata": {
        "id": "view-in-github",
        "colab_type": "text"
      },
      "source": [
        "<a href=\"https://colab.research.google.com/github/mingyeoll/22_10_Report/blob/main/Report_1st.ipynb\" target=\"_parent\"><img src=\"https://colab.research.google.com/assets/colab-badge.svg\" alt=\"Open In Colab\"/></a>"
      ]
    },
    {
      "cell_type": "code",
      "execution_count": 1,
      "metadata": {
        "colab": {
          "base_uri": "https://localhost:8080/"
        },
        "id": "xaGRInfMaAto",
        "outputId": "e5cd1394-8525-4d12-f84e-7c8976cd6f23"
      },
      "outputs": [
        {
          "output_type": "stream",
          "name": "stdout",
          "text": [
            "환영합니다.\n",
            "파이썬의 세계에 오신 것을 환영합니다.\n",
            "파이썬은 강력합니다.\n"
          ]
        }
      ],
      "source": [
        "print(\"환영합니다.\")\n",
        "print(\"파이썬의 세계에 오신 것을 환영합니다.\")\n",
        "print(\"파이썬은 강력합니다.\")"
      ]
    },
    {
      "cell_type": "code",
      "source": [
        "print(\"반갑습니다. 파이썬!\")\n",
        "print(2*3/10)\n",
        "print(\"Hello\", \"World\", \"!!!\")"
      ],
      "metadata": {
        "colab": {
          "base_uri": "https://localhost:8080/"
        },
        "id": "RyNDoLkFerZT",
        "outputId": "ad25b8f4-5a4f-44c8-e62d-88cc88b47e7a"
      },
      "execution_count": 3,
      "outputs": [
        {
          "output_type": "stream",
          "name": "stdout",
          "text": [
            "반갑습니다. 파이썬!\n",
            "0.6\n",
            "Hello World !!!\n"
          ]
        }
      ]
    },
    {
      "cell_type": "code",
      "source": [
        "print(\"일주일이 몇시간인가?\")\n",
        "print(\"일주일은 7일이고 1일은 24시간이다. 그러므로 일주일은\", 7*24,\"시간에 해당한다.\")"
      ],
      "metadata": {
        "colab": {
          "base_uri": "https://localhost:8080/"
        },
        "id": "Ore6-nZvfPzN",
        "outputId": "711cf06e-f0ca-4acf-c208-86b722949efc"
      },
      "execution_count": 7,
      "outputs": [
        {
          "output_type": "stream",
          "name": "stdout",
          "text": [
            "일주일이 몇시간인가?\n",
            "일주일은 7일이고 1일은 24시간이다. 그러므로 일주일은 168 시간에 해당한다.\n"
          ]
        }
      ]
    }
  ]
}